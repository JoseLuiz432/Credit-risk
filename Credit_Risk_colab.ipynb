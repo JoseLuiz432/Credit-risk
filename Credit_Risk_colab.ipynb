{
  "nbformat": 4,
  "nbformat_minor": 0,
  "metadata": {
    "colab": {
      "name": "Credit-Risk-colab.ipynb",
      "provenance": [],
      "collapsed_sections": [],
      "include_colab_link": true
    },
    "kernelspec": {
      "name": "python3",
      "display_name": "Python 3"
    },
    "language_info": {
      "name": "python"
    }
  },
  "cells": [
    {
      "cell_type": "markdown",
      "metadata": {
        "id": "view-in-github",
        "colab_type": "text"
      },
      "source": [
        "<a href=\"https://colab.research.google.com/github/JoseLuiz432/Credit-risk/blob/main/Credit_Risk_colab.ipynb\" target=\"_parent\"><img src=\"https://colab.research.google.com/assets/colab-badge.svg\" alt=\"Open In Colab\"/></a>"
      ]
    },
    {
      "cell_type": "markdown",
      "source": [
        "# Credit Risk Evaluate\n",
        "\n",
        "This Colab is an example of how to use Neural Network to evaluate the credit risk.\n",
        "\n",
        "For this example I'm using the Kaggle Dataset avaible [Here](https://www.kaggle.com/laotse/credit-risk-dataset).\n",
        "\n"
      ],
      "metadata": {
        "id": "869UkVH1iGgv"
      }
    },
    {
      "cell_type": "markdown",
      "source": [
        "## The problem\n",
        "Credit Risk Evaluate is an important task that try to mensure the possibility of a loss resulting from a borrower's failure to repay a loan or meet contractual obligations. "
      ],
      "metadata": {
        "id": "6ulQfOkDjzxm"
      }
    },
    {
      "cell_type": "markdown",
      "source": [
        "## Table of contents\n",
        "\n",
        "0.   Environment setting\n",
        "1.   Dataset description\n",
        "2.   Dataset preprocessing\n",
        "3.   Machine Learning Models\n",
        "4.   Results\n",
        "5.   Conclusion\n",
        "\n"
      ],
      "metadata": {
        "id": "qW9RskU1j4LL"
      }
    },
    {
      "cell_type": "markdown",
      "source": [
        "# Environment Setting"
      ],
      "metadata": {
        "id": "RcY1nmaIlBoF"
      }
    },
    {
      "cell_type": "code",
      "source": [
        "# Import librarys I'll need.\n",
        "# Pandas to store and view the dataset\n",
        "import pandas as pd\n",
        "# Matplotlib to plot charts and grafics\n",
        "import matplotlib.pyplot as plt\n",
        "# Numpy for data manipulation\n",
        "import numpy as np"
      ],
      "metadata": {
        "id": "BFAnyqZelFxa"
      },
      "execution_count": 1,
      "outputs": []
    },
    {
      "cell_type": "code",
      "source": [
        "!wget https://github.com/JoseLuiz432/Credit-risk/raw/main/dataset/credit_risk_dataset.csv"
      ],
      "metadata": {
        "colab": {
          "base_uri": "https://localhost:8080/"
        },
        "id": "eeAXdjvel3Zi",
        "outputId": "c0856362-ce4e-4d9a-83ba-92a4e142f24f"
      },
      "execution_count": 2,
      "outputs": [
        {
          "output_type": "stream",
          "name": "stdout",
          "text": [
            "--2022-01-19 16:30:06--  https://github.com/JoseLuiz432/Credit-risk/raw/main/dataset/credit_risk_dataset.csv\n",
            "Resolving github.com (github.com)... 192.30.255.113\n",
            "Connecting to github.com (github.com)|192.30.255.113|:443... connected.\n",
            "HTTP request sent, awaiting response... 302 Found\n",
            "Location: https://raw.githubusercontent.com/JoseLuiz432/Credit-risk/main/dataset/credit_risk_dataset.csv [following]\n",
            "--2022-01-19 16:30:07--  https://raw.githubusercontent.com/JoseLuiz432/Credit-risk/main/dataset/credit_risk_dataset.csv\n",
            "Resolving raw.githubusercontent.com (raw.githubusercontent.com)... 185.199.108.133, 185.199.111.133, 185.199.109.133, ...\n",
            "Connecting to raw.githubusercontent.com (raw.githubusercontent.com)|185.199.108.133|:443... connected.\n",
            "HTTP request sent, awaiting response... 200 OK\n",
            "Length: 1804682 (1.7M) [text/plain]\n",
            "Saving to: ‘credit_risk_dataset.csv’\n",
            "\n",
            "credit_risk_dataset 100%[===================>]   1.72M  --.-KB/s    in 0.03s   \n",
            "\n",
            "2022-01-19 16:30:07 (51.8 MB/s) - ‘credit_risk_dataset.csv’ saved [1804682/1804682]\n",
            "\n"
          ]
        }
      ]
    },
    {
      "cell_type": "code",
      "source": [
        "df = pd.read_csv('credit_risk_dataset.csv')"
      ],
      "metadata": {
        "id": "QG1tNJpSovd8"
      },
      "execution_count": 3,
      "outputs": []
    },
    {
      "cell_type": "markdown",
      "source": [
        "# Dataset Description"
      ],
      "metadata": {
        "id": "oKOKylMq8Z4e"
      }
    },
    {
      "cell_type": "code",
      "source": [
        "%load_ext google.colab.data_table\n",
        "df"
      ],
      "metadata": {
        "colab": {
          "base_uri": "https://localhost:8080/",
          "height": 506
        },
        "id": "XZu7dWP63Egk",
        "outputId": "236d4304-ace2-4c69-f74d-0fe78a2edc33"
      },
      "execution_count": 4,
      "outputs": [
        {
          "output_type": "stream",
          "name": "stdout",
          "text": [
            "Warning: total number of rows (32581) exceeds max_rows (20000). Falling back to pandas display.\n"
          ]
        },
        {
          "output_type": "execute_result",
          "data": {
            "text/html": [
              "\n",
              "  <div id=\"df-4986f69d-321a-4f2a-89e7-b7bcd7ac26e1\">\n",
              "    <div class=\"colab-df-container\">\n",
              "      <div>\n",
              "<style scoped>\n",
              "    .dataframe tbody tr th:only-of-type {\n",
              "        vertical-align: middle;\n",
              "    }\n",
              "\n",
              "    .dataframe tbody tr th {\n",
              "        vertical-align: top;\n",
              "    }\n",
              "\n",
              "    .dataframe thead th {\n",
              "        text-align: right;\n",
              "    }\n",
              "</style>\n",
              "<table border=\"1\" class=\"dataframe\">\n",
              "  <thead>\n",
              "    <tr style=\"text-align: right;\">\n",
              "      <th></th>\n",
              "      <th>person_age</th>\n",
              "      <th>person_income</th>\n",
              "      <th>person_home_ownership</th>\n",
              "      <th>person_emp_length</th>\n",
              "      <th>loan_intent</th>\n",
              "      <th>loan_grade</th>\n",
              "      <th>loan_amnt</th>\n",
              "      <th>loan_int_rate</th>\n",
              "      <th>loan_status</th>\n",
              "      <th>loan_percent_income</th>\n",
              "      <th>cb_person_default_on_file</th>\n",
              "      <th>cb_person_cred_hist_length</th>\n",
              "    </tr>\n",
              "  </thead>\n",
              "  <tbody>\n",
              "    <tr>\n",
              "      <th>0</th>\n",
              "      <td>22</td>\n",
              "      <td>59000</td>\n",
              "      <td>RENT</td>\n",
              "      <td>123.0</td>\n",
              "      <td>PERSONAL</td>\n",
              "      <td>D</td>\n",
              "      <td>35000</td>\n",
              "      <td>16.02</td>\n",
              "      <td>1</td>\n",
              "      <td>0.59</td>\n",
              "      <td>Y</td>\n",
              "      <td>3</td>\n",
              "    </tr>\n",
              "    <tr>\n",
              "      <th>1</th>\n",
              "      <td>21</td>\n",
              "      <td>9600</td>\n",
              "      <td>OWN</td>\n",
              "      <td>5.0</td>\n",
              "      <td>EDUCATION</td>\n",
              "      <td>B</td>\n",
              "      <td>1000</td>\n",
              "      <td>11.14</td>\n",
              "      <td>0</td>\n",
              "      <td>0.10</td>\n",
              "      <td>N</td>\n",
              "      <td>2</td>\n",
              "    </tr>\n",
              "    <tr>\n",
              "      <th>2</th>\n",
              "      <td>25</td>\n",
              "      <td>9600</td>\n",
              "      <td>MORTGAGE</td>\n",
              "      <td>1.0</td>\n",
              "      <td>MEDICAL</td>\n",
              "      <td>C</td>\n",
              "      <td>5500</td>\n",
              "      <td>12.87</td>\n",
              "      <td>1</td>\n",
              "      <td>0.57</td>\n",
              "      <td>N</td>\n",
              "      <td>3</td>\n",
              "    </tr>\n",
              "    <tr>\n",
              "      <th>3</th>\n",
              "      <td>23</td>\n",
              "      <td>65500</td>\n",
              "      <td>RENT</td>\n",
              "      <td>4.0</td>\n",
              "      <td>MEDICAL</td>\n",
              "      <td>C</td>\n",
              "      <td>35000</td>\n",
              "      <td>15.23</td>\n",
              "      <td>1</td>\n",
              "      <td>0.53</td>\n",
              "      <td>N</td>\n",
              "      <td>2</td>\n",
              "    </tr>\n",
              "    <tr>\n",
              "      <th>4</th>\n",
              "      <td>24</td>\n",
              "      <td>54400</td>\n",
              "      <td>RENT</td>\n",
              "      <td>8.0</td>\n",
              "      <td>MEDICAL</td>\n",
              "      <td>C</td>\n",
              "      <td>35000</td>\n",
              "      <td>14.27</td>\n",
              "      <td>1</td>\n",
              "      <td>0.55</td>\n",
              "      <td>Y</td>\n",
              "      <td>4</td>\n",
              "    </tr>\n",
              "    <tr>\n",
              "      <th>...</th>\n",
              "      <td>...</td>\n",
              "      <td>...</td>\n",
              "      <td>...</td>\n",
              "      <td>...</td>\n",
              "      <td>...</td>\n",
              "      <td>...</td>\n",
              "      <td>...</td>\n",
              "      <td>...</td>\n",
              "      <td>...</td>\n",
              "      <td>...</td>\n",
              "      <td>...</td>\n",
              "      <td>...</td>\n",
              "    </tr>\n",
              "    <tr>\n",
              "      <th>32576</th>\n",
              "      <td>57</td>\n",
              "      <td>53000</td>\n",
              "      <td>MORTGAGE</td>\n",
              "      <td>1.0</td>\n",
              "      <td>PERSONAL</td>\n",
              "      <td>C</td>\n",
              "      <td>5800</td>\n",
              "      <td>13.16</td>\n",
              "      <td>0</td>\n",
              "      <td>0.11</td>\n",
              "      <td>N</td>\n",
              "      <td>30</td>\n",
              "    </tr>\n",
              "    <tr>\n",
              "      <th>32577</th>\n",
              "      <td>54</td>\n",
              "      <td>120000</td>\n",
              "      <td>MORTGAGE</td>\n",
              "      <td>4.0</td>\n",
              "      <td>PERSONAL</td>\n",
              "      <td>A</td>\n",
              "      <td>17625</td>\n",
              "      <td>7.49</td>\n",
              "      <td>0</td>\n",
              "      <td>0.15</td>\n",
              "      <td>N</td>\n",
              "      <td>19</td>\n",
              "    </tr>\n",
              "    <tr>\n",
              "      <th>32578</th>\n",
              "      <td>65</td>\n",
              "      <td>76000</td>\n",
              "      <td>RENT</td>\n",
              "      <td>3.0</td>\n",
              "      <td>HOMEIMPROVEMENT</td>\n",
              "      <td>B</td>\n",
              "      <td>35000</td>\n",
              "      <td>10.99</td>\n",
              "      <td>1</td>\n",
              "      <td>0.46</td>\n",
              "      <td>N</td>\n",
              "      <td>28</td>\n",
              "    </tr>\n",
              "    <tr>\n",
              "      <th>32579</th>\n",
              "      <td>56</td>\n",
              "      <td>150000</td>\n",
              "      <td>MORTGAGE</td>\n",
              "      <td>5.0</td>\n",
              "      <td>PERSONAL</td>\n",
              "      <td>B</td>\n",
              "      <td>15000</td>\n",
              "      <td>11.48</td>\n",
              "      <td>0</td>\n",
              "      <td>0.10</td>\n",
              "      <td>N</td>\n",
              "      <td>26</td>\n",
              "    </tr>\n",
              "    <tr>\n",
              "      <th>32580</th>\n",
              "      <td>66</td>\n",
              "      <td>42000</td>\n",
              "      <td>RENT</td>\n",
              "      <td>2.0</td>\n",
              "      <td>MEDICAL</td>\n",
              "      <td>B</td>\n",
              "      <td>6475</td>\n",
              "      <td>9.99</td>\n",
              "      <td>0</td>\n",
              "      <td>0.15</td>\n",
              "      <td>N</td>\n",
              "      <td>30</td>\n",
              "    </tr>\n",
              "  </tbody>\n",
              "</table>\n",
              "<p>32581 rows × 12 columns</p>\n",
              "</div>\n",
              "      <button class=\"colab-df-convert\" onclick=\"convertToInteractive('df-4986f69d-321a-4f2a-89e7-b7bcd7ac26e1')\"\n",
              "              title=\"Convert this dataframe to an interactive table.\"\n",
              "              style=\"display:none;\">\n",
              "        \n",
              "  <svg xmlns=\"http://www.w3.org/2000/svg\" height=\"24px\"viewBox=\"0 0 24 24\"\n",
              "       width=\"24px\">\n",
              "    <path d=\"M0 0h24v24H0V0z\" fill=\"none\"/>\n",
              "    <path d=\"M18.56 5.44l.94 2.06.94-2.06 2.06-.94-2.06-.94-.94-2.06-.94 2.06-2.06.94zm-11 1L8.5 8.5l.94-2.06 2.06-.94-2.06-.94L8.5 2.5l-.94 2.06-2.06.94zm10 10l.94 2.06.94-2.06 2.06-.94-2.06-.94-.94-2.06-.94 2.06-2.06.94z\"/><path d=\"M17.41 7.96l-1.37-1.37c-.4-.4-.92-.59-1.43-.59-.52 0-1.04.2-1.43.59L10.3 9.45l-7.72 7.72c-.78.78-.78 2.05 0 2.83L4 21.41c.39.39.9.59 1.41.59.51 0 1.02-.2 1.41-.59l7.78-7.78 2.81-2.81c.8-.78.8-2.07 0-2.86zM5.41 20L4 18.59l7.72-7.72 1.47 1.35L5.41 20z\"/>\n",
              "  </svg>\n",
              "      </button>\n",
              "      \n",
              "  <style>\n",
              "    .colab-df-container {\n",
              "      display:flex;\n",
              "      flex-wrap:wrap;\n",
              "      gap: 12px;\n",
              "    }\n",
              "\n",
              "    .colab-df-convert {\n",
              "      background-color: #E8F0FE;\n",
              "      border: none;\n",
              "      border-radius: 50%;\n",
              "      cursor: pointer;\n",
              "      display: none;\n",
              "      fill: #1967D2;\n",
              "      height: 32px;\n",
              "      padding: 0 0 0 0;\n",
              "      width: 32px;\n",
              "    }\n",
              "\n",
              "    .colab-df-convert:hover {\n",
              "      background-color: #E2EBFA;\n",
              "      box-shadow: 0px 1px 2px rgba(60, 64, 67, 0.3), 0px 1px 3px 1px rgba(60, 64, 67, 0.15);\n",
              "      fill: #174EA6;\n",
              "    }\n",
              "\n",
              "    [theme=dark] .colab-df-convert {\n",
              "      background-color: #3B4455;\n",
              "      fill: #D2E3FC;\n",
              "    }\n",
              "\n",
              "    [theme=dark] .colab-df-convert:hover {\n",
              "      background-color: #434B5C;\n",
              "      box-shadow: 0px 1px 3px 1px rgba(0, 0, 0, 0.15);\n",
              "      filter: drop-shadow(0px 1px 2px rgba(0, 0, 0, 0.3));\n",
              "      fill: #FFFFFF;\n",
              "    }\n",
              "  </style>\n",
              "\n",
              "      <script>\n",
              "        const buttonEl =\n",
              "          document.querySelector('#df-4986f69d-321a-4f2a-89e7-b7bcd7ac26e1 button.colab-df-convert');\n",
              "        buttonEl.style.display =\n",
              "          google.colab.kernel.accessAllowed ? 'block' : 'none';\n",
              "\n",
              "        async function convertToInteractive(key) {\n",
              "          const element = document.querySelector('#df-4986f69d-321a-4f2a-89e7-b7bcd7ac26e1');\n",
              "          const dataTable =\n",
              "            await google.colab.kernel.invokeFunction('convertToInteractive',\n",
              "                                                     [key], {});\n",
              "          if (!dataTable) return;\n",
              "\n",
              "          const docLinkHtml = 'Like what you see? Visit the ' +\n",
              "            '<a target=\"_blank\" href=https://colab.research.google.com/notebooks/data_table.ipynb>data table notebook</a>'\n",
              "            + ' to learn more about interactive tables.';\n",
              "          element.innerHTML = '';\n",
              "          dataTable['output_type'] = 'display_data';\n",
              "          await google.colab.output.renderOutput(dataTable, element);\n",
              "          const docLink = document.createElement('div');\n",
              "          docLink.innerHTML = docLinkHtml;\n",
              "          element.appendChild(docLink);\n",
              "        }\n",
              "      </script>\n",
              "    </div>\n",
              "  </div>\n",
              "  "
            ],
            "text/plain": [
              "       person_age  ...  cb_person_cred_hist_length\n",
              "0              22  ...                           3\n",
              "1              21  ...                           2\n",
              "2              25  ...                           3\n",
              "3              23  ...                           2\n",
              "4              24  ...                           4\n",
              "...           ...  ...                         ...\n",
              "32576          57  ...                          30\n",
              "32577          54  ...                          19\n",
              "32578          65  ...                          28\n",
              "32579          56  ...                          26\n",
              "32580          66  ...                          30\n",
              "\n",
              "[32581 rows x 12 columns]"
            ]
          },
          "metadata": {},
          "execution_count": 4
        }
      ]
    },
    {
      "cell_type": "markdown",
      "source": [
        "There are 11 features for each sample in this dataset. Each feature are described bellow:\n",
        "\n",
        "\n",
        "\n",
        "*  [person_age] - is the years old of the sample\n",
        "*  [person_income] - is the year income\n",
        "*  [person_home_ownership] - Home ownership\n",
        "*  [person_emp_length] - Employment length (in years)\n",
        "*  [loan_intent] - Loan intent\n",
        "*  [loan_grade] - Loan grade\n",
        "*  [loan_amnt]  - Loan amount\n",
        "*  [loan_int_rate] - Interest rate\n",
        "*  [loan_percent_income] - Percent income on loan\n",
        "*  [cb_person_default_on_file] - Historical default loan\n",
        "*  [cb_person_cred_hist_length] -  Credit history length\n",
        "\n",
        "And the target value Loan grade\n",
        "* [loan_grade] - Loan grade"
      ],
      "metadata": {
        "id": "uG-vSo5nOMA1"
      }
    },
    {
      "cell_type": "code",
      "source": [
        "df.dtypes"
      ],
      "metadata": {
        "colab": {
          "base_uri": "https://localhost:8080/"
        },
        "id": "YsxGMOlW7923",
        "outputId": "9e8497cc-586d-4691-b6cd-4d87a6c6fca8"
      },
      "execution_count": 5,
      "outputs": [
        {
          "output_type": "execute_result",
          "data": {
            "text/plain": [
              "person_age                      int64\n",
              "person_income                   int64\n",
              "person_home_ownership          object\n",
              "person_emp_length             float64\n",
              "loan_intent                    object\n",
              "loan_grade                     object\n",
              "loan_amnt                       int64\n",
              "loan_int_rate                 float64\n",
              "loan_status                     int64\n",
              "loan_percent_income           float64\n",
              "cb_person_default_on_file      object\n",
              "cb_person_cred_hist_length      int64\n",
              "dtype: object"
            ]
          },
          "metadata": {},
          "execution_count": 5
        }
      ]
    },
    {
      "cell_type": "code",
      "source": [
        "df_in = df[['person_age','person_income', 'person_emp_length', 'loan_amnt', 'loan_int_rate', 'loan_percent_income']]\n",
        "fig, axes = plt.subplots(len(df_in.columns)//3, 3, figsize=(12, 6))\n",
        "\n",
        "i = 0\n",
        "for triaxis in axes:\n",
        "    for axis in triaxis:\n",
        "        \n",
        "        df_in.hist(column = df_in.columns[i], bins = 100, ax=axis,)\n",
        "        i = i+1"
      ],
      "metadata": {
        "colab": {
          "base_uri": "https://localhost:8080/",
          "height": 390
        },
        "id": "qpBWfRdHR83g",
        "outputId": "c9cfef12-5d23-4726-830b-aaec52ad9569"
      },
      "execution_count": 26,
      "outputs": [
        {
          "output_type": "display_data",
          "data": {
            "image/png": "[encoded data removed]",
            "text/plain": [
              "<Figure size 864x432 with 6 Axes>"
            ]
          },
          "metadata": {
            "needs_background": "light"
          }
        }
      ]
    },
    {
      "cell_type": "markdown",
      "source": [
        "## Análisar os dados\n",
        "\n",
        "  - 1) Verificar os tipos\n",
        "  - 2) Remover colunas não significativas\n",
        "  - 3) Remover outliers  \n"
      ],
      "metadata": {
        "id": "HSM3gyHQ8zxO"
      }
    },
    {
      "cell_type": "code",
      "source": [
        "print(\"\\nValores Ausentes:\")\n",
        "print((df.isnull().sum() / df.shape[0]).sort_values(ascending=False))"
      ],
      "metadata": {
        "colab": {
          "base_uri": "https://localhost:8080/"
        },
        "id": "6BEinxV3WQYW",
        "outputId": "6cbd51eb-2083-433e-a002-2f50b3064966"
      },
      "execution_count": 6,
      "outputs": [
        {
          "output_type": "stream",
          "name": "stdout",
          "text": [
            "\n",
            "Valores Ausentes:\n",
            "loan_int_rate                 0.095639\n",
            "person_emp_length             0.027470\n",
            "cb_person_cred_hist_length    0.000000\n",
            "cb_person_default_on_file     0.000000\n",
            "loan_percent_income           0.000000\n",
            "loan_status                   0.000000\n",
            "loan_amnt                     0.000000\n",
            "loan_grade                    0.000000\n",
            "loan_intent                   0.000000\n",
            "person_home_ownership         0.000000\n",
            "person_income                 0.000000\n",
            "person_age                    0.000000\n",
            "dtype: float64\n"
          ]
        }
      ]
    },
    {
      "cell_type": "code",
      "source": [
        "# Valores Únicos\n",
        "print(\"\\nValores Únicos:\")\n",
        "print(df.nunique().sort_values())"
      ],
      "metadata": {
        "colab": {
          "base_uri": "https://localhost:8080/"
        },
        "id": "diiNZBSOWvls",
        "outputId": "95d3b94b-f7ce-4d6b-ea54-a1184fa029e7"
      },
      "execution_count": 7,
      "outputs": [
        {
          "output_type": "stream",
          "name": "stdout",
          "text": [
            "\n",
            "Valores Únicos:\n",
            "loan_status                      2\n",
            "cb_person_default_on_file        2\n",
            "person_home_ownership            4\n",
            "loan_intent                      6\n",
            "loan_grade                       7\n",
            "cb_person_cred_hist_length      29\n",
            "person_emp_length               36\n",
            "person_age                      58\n",
            "loan_percent_income             77\n",
            "loan_int_rate                  348\n",
            "loan_amnt                      753\n",
            "person_income                 4295\n",
            "dtype: int64\n"
          ]
        }
      ]
    },
    {
      "cell_type": "code",
      "source": [
        "# ver resumo estatístico dos dados numéricos\n",
        "df.describe()"
      ],
      "metadata": {
        "colab": {
          "base_uri": "https://localhost:8080/",
          "height": 264
        },
        "id": "5bsksD3ZXSfj",
        "outputId": "497ed814-2fdd-4931-d32c-87c83163f337"
      },
      "execution_count": 9,
      "outputs": [
        {
          "output_type": "execute_result",
          "data": {
            "application/vnd.google.colaboratory.module+javascript": "\n      import \"https://ssl.gstatic.com/colaboratory/data_table/a6224c040fa35dcf/data_table.js\";\n\n      window.createDataTable({\n        data: [[\"count\",\n{\n            'v': 32581.0,\n            'f': \"32581.0\",\n        },\n{\n            'v': 32581.0,\n            'f': \"32581.0\",\n        },\n{\n            'v': 31686.0,\n            'f': \"31686.0\",\n        },\n{\n            'v': 32581.0,\n            'f': \"32581.0\",\n        },\n{\n            'v': 29465.0,\n            'f': \"29465.0\",\n        },\n{\n            'v': 32581.0,\n            'f': \"32581.0\",\n        },\n{\n            'v': 32581.0,\n            'f': \"32581.0\",\n        },\n{\n            'v': 32581.0,\n            'f': \"32581.0\",\n        }],\n [\"mean\",\n{\n            'v': 27.73459992019889,\n            'f': \"27.73459992019889\",\n        },\n{\n            'v': 66074.84846996715,\n            'f': \"66074.84846996715\",\n        },\n{\n            'v': 4.789686296787225,\n            'f': \"4.789686296787225\",\n        },\n{\n            'v': 9589.371105859243,\n            'f': \"9589.371105859243\",\n        },\n{\n            'v': 11.01169489224439,\n            'f': \"11.01169489224439\",\n        },\n{\n            'v': 0.21816396059052823,\n            'f': \"0.21816396059052823\",\n        },\n{\n            'v': 0.17020349283325145,\n            'f': \"0.17020349283325145\",\n        },\n{\n            'v': 5.804211043246064,\n            'f': \"5.804211043246064\",\n        }],\n [\"std\",\n{\n            'v': 6.3480784192252475,\n            'f': \"6.3480784192252475\",\n        },\n{\n            'v': 61983.119168159064,\n            'f': \"61983.119168159064\",\n        },\n{\n            'v': 4.142630148887972,\n            'f': \"4.142630148887972\",\n        },\n{\n            'v': 6322.086645792174,\n            'f': \"6322.086645792174\",\n        },\n{\n            'v': 3.2404594649559195,\n            'f': \"3.2404594649559195\",\n        },\n{\n            'v': 0.4130056685601785,\n            'f': \"0.4130056685601785\",\n        },\n{\n            'v': 0.10678175634492885,\n            'f': \"0.10678175634492885\",\n        },\n{\n            'v': 4.0550011647128406,\n            'f': \"4.0550011647128406\",\n        }],\n [\"min\",\n{\n            'v': 20.0,\n            'f': \"20.0\",\n        },\n{\n            'v': 4000.0,\n            'f': \"4000.0\",\n        },\n{\n            'v': 0.0,\n            'f': \"0.0\",\n        },\n{\n            'v': 500.0,\n            'f': \"500.0\",\n        },\n{\n            'v': 5.42,\n            'f': \"5.42\",\n        },\n{\n            'v': 0.0,\n            'f': \"0.0\",\n        },\n{\n            'v': 0.0,\n            'f': \"0.0\",\n        },\n{\n            'v': 2.0,\n            'f': \"2.0\",\n        }],\n [\"25%\",\n{\n            'v': 23.0,\n            'f': \"23.0\",\n        },\n{\n            'v': 38500.0,\n            'f': \"38500.0\",\n        },\n{\n            'v': 2.0,\n            'f': \"2.0\",\n        },\n{\n            'v': 5000.0,\n            'f': \"5000.0\",\n        },\n{\n            'v': 7.9,\n            'f': \"7.9\",\n        },\n{\n            'v': 0.0,\n            'f': \"0.0\",\n        },\n{\n            'v': 0.09,\n            'f': \"0.09\",\n        },\n{\n            'v': 3.0,\n            'f': \"3.0\",\n        }],\n [\"50%\",\n{\n            'v': 26.0,\n            'f': \"26.0\",\n        },\n{\n            'v': 55000.0,\n            'f': \"55000.0\",\n        },\n{\n            'v': 4.0,\n            'f': \"4.0\",\n        },\n{\n            'v': 8000.0,\n            'f': \"8000.0\",\n        },\n{\n            'v': 10.99,\n            'f': \"10.99\",\n        },\n{\n            'v': 0.0,\n            'f': \"0.0\",\n        },\n{\n            'v': 0.15,\n            'f': \"0.15\",\n        },\n{\n            'v': 4.0,\n            'f': \"4.0\",\n        }],\n [\"75%\",\n{\n            'v': 30.0,\n            'f': \"30.0\",\n        },\n{\n            'v': 79200.0,\n            'f': \"79200.0\",\n        },\n{\n            'v': 7.0,\n            'f': \"7.0\",\n        },\n{\n            'v': 12200.0,\n            'f': \"12200.0\",\n        },\n{\n            'v': 13.47,\n            'f': \"13.47\",\n        },\n{\n            'v': 0.0,\n            'f': \"0.0\",\n        },\n{\n            'v': 0.23,\n            'f': \"0.23\",\n        },\n{\n            'v': 8.0,\n            'f': \"8.0\",\n        }],\n [\"max\",\n{\n            'v': 144.0,\n            'f': \"144.0\",\n        },\n{\n            'v': 6000000.0,\n            'f': \"6000000.0\",\n        },\n{\n            'v': 123.0,\n            'f': \"123.0\",\n        },\n{\n            'v': 35000.0,\n            'f': \"35000.0\",\n        },\n{\n            'v': 23.22,\n            'f': \"23.22\",\n        },\n{\n            'v': 1.0,\n            'f': \"1.0\",\n        },\n{\n            'v': 0.83,\n            'f': \"0.83\",\n        },\n{\n            'v': 30.0,\n            'f': \"30.0\",\n        }]],\n        columns: [[\"string\", \"index\"], [\"number\", \"person_age\"], [\"number\", \"person_income\"], [\"number\", \"person_emp_length\"], [\"number\", \"loan_amnt\"], [\"number\", \"loan_int_rate\"], [\"number\", \"loan_status\"], [\"number\", \"loan_percent_income\"], [\"number\", \"cb_person_cred_hist_length\"]],\n        columnOptions: [{\"width\": \"1px\", \"className\": \"index_column\"}],\n        rowsPerPage: 25,\n        helpUrl: \"https://colab.research.google.com/notebooks/data_table.ipynb\",\n        suppressOutputScrolling: true,\n        minimumWidth: undefined,\n      });\n    ",
            "text/html": [
              "\n",
              "  <div id=\"df-88a145bf-4c3b-4947-a485-596b843fb1b3\">\n",
              "    <div class=\"colab-df-container\">\n",
              "      <div>\n",
              "<style scoped>\n",
              "    .dataframe tbody tr th:only-of-type {\n",
              "        vertical-align: middle;\n",
              "    }\n",
              "\n",
              "    .dataframe tbody tr th {\n",
              "        vertical-align: top;\n",
              "    }\n",
              "\n",
              "    .dataframe thead th {\n",
              "        text-align: right;\n",
              "    }\n",
              "</style>\n",
              "<table border=\"1\" class=\"dataframe\">\n",
              "  <thead>\n",
              "    <tr style=\"text-align: right;\">\n",
              "      <th></th>\n",
              "      <th>person_age</th>\n",
              "      <th>person_income</th>\n",
              "      <th>person_emp_length</th>\n",
              "      <th>loan_amnt</th>\n",
              "      <th>loan_int_rate</th>\n",
              "      <th>loan_status</th>\n",
              "      <th>loan_percent_income</th>\n",
              "      <th>cb_person_cred_hist_length</th>\n",
              "    </tr>\n",
              "  </thead>\n",
              "  <tbody>\n",
              "    <tr>\n",
              "      <th>count</th>\n",
              "      <td>32581.000000</td>\n",
              "      <td>3.258100e+04</td>\n",
              "      <td>31686.000000</td>\n",
              "      <td>32581.000000</td>\n",
              "      <td>29465.000000</td>\n",
              "      <td>32581.000000</td>\n",
              "      <td>32581.000000</td>\n",
              "      <td>32581.000000</td>\n",
              "    </tr>\n",
              "    <tr>\n",
              "      <th>mean</th>\n",
              "      <td>27.734600</td>\n",
              "      <td>6.607485e+04</td>\n",
              "      <td>4.789686</td>\n",
              "      <td>9589.371106</td>\n",
              "      <td>11.011695</td>\n",
              "      <td>0.218164</td>\n",
              "      <td>0.170203</td>\n",
              "      <td>5.804211</td>\n",
              "    </tr>\n",
              "    <tr>\n",
              "      <th>std</th>\n",
              "      <td>6.348078</td>\n",
              "      <td>6.198312e+04</td>\n",
              "      <td>4.142630</td>\n",
              "      <td>6322.086646</td>\n",
              "      <td>3.240459</td>\n",
              "      <td>0.413006</td>\n",
              "      <td>0.106782</td>\n",
              "      <td>4.055001</td>\n",
              "    </tr>\n",
              "    <tr>\n",
              "      <th>min</th>\n",
              "      <td>20.000000</td>\n",
              "      <td>4.000000e+03</td>\n",
              "      <td>0.000000</td>\n",
              "      <td>500.000000</td>\n",
              "      <td>5.420000</td>\n",
              "      <td>0.000000</td>\n",
              "      <td>0.000000</td>\n",
              "      <td>2.000000</td>\n",
              "    </tr>\n",
              "    <tr>\n",
              "      <th>25%</th>\n",
              "      <td>23.000000</td>\n",
              "      <td>3.850000e+04</td>\n",
              "      <td>2.000000</td>\n",
              "      <td>5000.000000</td>\n",
              "      <td>7.900000</td>\n",
              "      <td>0.000000</td>\n",
              "      <td>0.090000</td>\n",
              "      <td>3.000000</td>\n",
              "    </tr>\n",
              "    <tr>\n",
              "      <th>50%</th>\n",
              "      <td>26.000000</td>\n",
              "      <td>5.500000e+04</td>\n",
              "      <td>4.000000</td>\n",
              "      <td>8000.000000</td>\n",
              "      <td>10.990000</td>\n",
              "      <td>0.000000</td>\n",
              "      <td>0.150000</td>\n",
              "      <td>4.000000</td>\n",
              "    </tr>\n",
              "    <tr>\n",
              "      <th>75%</th>\n",
              "      <td>30.000000</td>\n",
              "      <td>7.920000e+04</td>\n",
              "      <td>7.000000</td>\n",
              "      <td>12200.000000</td>\n",
              "      <td>13.470000</td>\n",
              "      <td>0.000000</td>\n",
              "      <td>0.230000</td>\n",
              "      <td>8.000000</td>\n",
              "    </tr>\n",
              "    <tr>\n",
              "      <th>max</th>\n",
              "      <td>144.000000</td>\n",
              "      <td>6.000000e+06</td>\n",
              "      <td>123.000000</td>\n",
              "      <td>35000.000000</td>\n",
              "      <td>23.220000</td>\n",
              "      <td>1.000000</td>\n",
              "      <td>0.830000</td>\n",
              "      <td>30.000000</td>\n",
              "    </tr>\n",
              "  </tbody>\n",
              "</table>\n",
              "</div>\n",
              "      <button class=\"colab-df-convert\" onclick=\"convertToInteractive('df-88a145bf-4c3b-4947-a485-596b843fb1b3')\"\n",
              "              title=\"Convert this dataframe to an interactive table.\"\n",
              "              style=\"display:none;\">\n",
              "        \n",
              "  <svg xmlns=\"http://www.w3.org/2000/svg\" height=\"24px\"viewBox=\"0 0 24 24\"\n",
              "       width=\"24px\">\n",
              "    <path d=\"M0 0h24v24H0V0z\" fill=\"none\"/>\n",
              "    <path d=\"M18.56 5.44l.94 2.06.94-2.06 2.06-.94-2.06-.94-.94-2.06-.94 2.06-2.06.94zm-11 1L8.5 8.5l.94-2.06 2.06-.94-2.06-.94L8.5 2.5l-.94 2.06-2.06.94zm10 10l.94 2.06.94-2.06 2.06-.94-2.06-.94-.94-2.06-.94 2.06-2.06.94z\"/><path d=\"M17.41 7.96l-1.37-1.37c-.4-.4-.92-.59-1.43-.59-.52 0-1.04.2-1.43.59L10.3 9.45l-7.72 7.72c-.78.78-.78 2.05 0 2.83L4 21.41c.39.39.9.59 1.41.59.51 0 1.02-.2 1.41-.59l7.78-7.78 2.81-2.81c.8-.78.8-2.07 0-2.86zM5.41 20L4 18.59l7.72-7.72 1.47 1.35L5.41 20z\"/>\n",
              "  </svg>\n",
              "      </button>\n",
              "      \n",
              "  <style>\n",
              "    .colab-df-container {\n",
              "      display:flex;\n",
              "      flex-wrap:wrap;\n",
              "      gap: 12px;\n",
              "    }\n",
              "\n",
              "    .colab-df-convert {\n",
              "      background-color: #E8F0FE;\n",
              "      border: none;\n",
              "      border-radius: 50%;\n",
              "      cursor: pointer;\n",
              "      display: none;\n",
              "      fill: #1967D2;\n",
              "      height: 32px;\n",
              "      padding: 0 0 0 0;\n",
              "      width: 32px;\n",
              "    }\n",
              "\n",
              "    .colab-df-convert:hover {\n",
              "      background-color: #E2EBFA;\n",
              "      box-shadow: 0px 1px 2px rgba(60, 64, 67, 0.3), 0px 1px 3px 1px rgba(60, 64, 67, 0.15);\n",
              "      fill: #174EA6;\n",
              "    }\n",
              "\n",
              "    [theme=dark] .colab-df-convert {\n",
              "      background-color: #3B4455;\n",
              "      fill: #D2E3FC;\n",
              "    }\n",
              "\n",
              "    [theme=dark] .colab-df-convert:hover {\n",
              "      background-color: #434B5C;\n",
              "      box-shadow: 0px 1px 3px 1px rgba(0, 0, 0, 0.15);\n",
              "      filter: drop-shadow(0px 1px 2px rgba(0, 0, 0, 0.3));\n",
              "      fill: #FFFFFF;\n",
              "    }\n",
              "  </style>\n",
              "\n",
              "      <script>\n",
              "        const buttonEl =\n",
              "          document.querySelector('#df-88a145bf-4c3b-4947-a485-596b843fb1b3 button.colab-df-convert');\n",
              "        buttonEl.style.display =\n",
              "          google.colab.kernel.accessAllowed ? 'block' : 'none';\n",
              "\n",
              "        async function convertToInteractive(key) {\n",
              "          const element = document.querySelector('#df-88a145bf-4c3b-4947-a485-596b843fb1b3');\n",
              "          const dataTable =\n",
              "            await google.colab.kernel.invokeFunction('convertToInteractive',\n",
              "                                                     [key], {});\n",
              "          if (!dataTable) return;\n",
              "\n",
              "          const docLinkHtml = 'Like what you see? Visit the ' +\n",
              "            '<a target=\"_blank\" href=https://colab.research.google.com/notebooks/data_table.ipynb>data table notebook</a>'\n",
              "            + ' to learn more about interactive tables.';\n",
              "          element.innerHTML = '';\n",
              "          dataTable['output_type'] = 'display_data';\n",
              "          await google.colab.output.renderOutput(dataTable, element);\n",
              "          const docLink = document.createElement('div');\n",
              "          docLink.innerHTML = docLinkHtml;\n",
              "          element.appendChild(docLink);\n",
              "        }\n",
              "      </script>\n",
              "    </div>\n",
              "  </div>\n",
              "  "
            ],
            "text/plain": [
              "         person_age  ...  cb_person_cred_hist_length\n",
              "count  32581.000000  ...                32581.000000\n",
              "mean      27.734600  ...                    5.804211\n",
              "std        6.348078  ...                    4.055001\n",
              "min       20.000000  ...                    2.000000\n",
              "25%       23.000000  ...                    3.000000\n",
              "50%       26.000000  ...                    4.000000\n",
              "75%       30.000000  ...                    8.000000\n",
              "max      144.000000  ...                   30.000000\n",
              "\n",
              "[8 rows x 8 columns]"
            ]
          },
          "metadata": {},
          "execution_count": 9
        }
      ]
    },
    {
      "cell_type": "markdown",
      "source": [
        "# Manipulação dos dados\n",
        " - 1) substituir valores inf por 'NaN' da coluna reported_income\n",
        " - 2) Substituir o valor -999 em 'external_data_provider_email_seen_before' por 'NaN'\n",
        " - 3) Eliminar as colunas sem informação aparente ou que demandam mais pesquisa"
      ],
      "metadata": {
        "id": "aVK-RYKPXryN"
      }
    },
    {
      "cell_type": "code",
      "source": [
        "# Substituindo\n",
        "df_clean['reported_income'] = df_clean['reported_income'].replace(np.inf, np.nan)\n",
        "df_clean.loc[df_clean['external_data_provider_email_seen_before'] == -999.0,\n",
        "             'external_data_provider_email_seen_before'] = np.nan"
      ],
      "metadata": {
        "id": "-i7QOPsaXco0"
      },
      "execution_count": null,
      "outputs": []
    },
    {
      "cell_type": "code",
      "source": [
        "# Eliminando as colunas sem informação aparente ou que demandam mais pesquisa\n",
        "\n",
        "# Variável temporária para armazenar o label das colunas a serem eliminadas\n",
        "drop_var = ['reason', 'zip', 'job_name', 'external_data_provider_first_name',\n",
        "            'lat_lon', 'shipping_zip_code', 'user_agent', 'profile_tags',\n",
        "            'application_time_applied', 'email', 'marketing_channel',\n",
        "            'shipping_state', 'target_fraud', 'ids', 'score_1', 'score_2', 'state', 'real_state']\n",
        "\n",
        "# Comando para eliminar as colunas            \n",
        "df_clean.drop(labels=drop_var, axis=1, inplace=True)"
      ],
      "metadata": {
        "id": "5QhvAGwphmjS"
      },
      "execution_count": null,
      "outputs": []
    },
    {
      "cell_type": "code",
      "source": [
        "# Eliminar as linhas com valores nulos (NaN) para a coluna target_default\n",
        "df_clean.dropna(subset=['target_default'], inplace=True)"
      ],
      "metadata": {
        "id": "m-ZrWVp9XynW"
      },
      "execution_count": null,
      "outputs": []
    },
    {
      "cell_type": "code",
      "source": [
        "# substituição de valores ausentes confome item 2 de nossa análise anterior\n",
        "df_clean.last_amount_borrowed.fillna(value=0, inplace=True)\n",
        "df_clean.last_borrowed_in_months.fillna(value=0, inplace=True)\n",
        "df_clean.n_issues.fillna(value=0, inplace=True)"
      ],
      "metadata": {
        "id": "QEy_2vjUib37"
      },
      "execution_count": null,
      "outputs": []
    },
    {
      "cell_type": "code",
      "source": [
        "# Importando a biblioteca para substituição dos valores conforme definido acima no item 4\n",
        "from sklearn.impute import SimpleImputer\n",
        "\n",
        "# Atribuindo os labels das colunas númericas a uma variável\n",
        "num_df = df_clean.select_dtypes(exclude='object').columns\n",
        "\n",
        "# Atribuindo os labels das colunas categórcias a uma variável\n",
        "cat_df = df_clean.select_dtypes(include='object').columns"
      ],
      "metadata": {
        "id": "pmMFjPYpilZ4"
      },
      "execution_count": null,
      "outputs": []
    },
    {
      "cell_type": "code",
      "source": [
        "# substituindo as variáveis categóricas pelos valores mais frequentes conforme definido acima no item 4\n",
        "imputer = SimpleImputer(missing_values=np.nan, strategy='most_frequent')\n",
        "imputer = imputer.fit(df_clean.loc[:,cat_df])\n",
        "df_clean.loc[:,cat_df] = imputer.transform(df_clean.loc[:,cat_df])"
      ],
      "metadata": {
        "id": "UsLZ-YUkip6m"
      },
      "execution_count": null,
      "outputs": []
    },
    {
      "cell_type": "code",
      "source": [
        "# substituindo as variáveis numéricas pela mediana conforme definido acima no item 3\n",
        "imputer = SimpleImputer(missing_values=np.nan, strategy='median')\n",
        "imputer = imputer.fit(df_clean.loc[:,num_df])\n",
        "df_clean.loc[:,num_df] = imputer.transform(df_clean.loc[:,num_df])"
      ],
      "metadata": {
        "id": "2g_tNWI9jFq4"
      },
      "execution_count": null,
      "outputs": []
    },
    {
      "cell_type": "code",
      "source": [
        "df_train, df_test = train_test_split(df_clean, test_size=0.1)\n",
        "df_train, df_val = train_test_split(df_train, test_size=0.2)"
      ],
      "metadata": {
        "id": "6fsmFaNQjejH"
      },
      "execution_count": null,
      "outputs": []
    },
    {
      "cell_type": "code",
      "source": [
        "df_test"
      ],
      "metadata": {
        "colab": {
          "base_uri": "https://localhost:8080/",
          "height": 505
        },
        "id": "XecGGuDZg-Vl",
        "outputId": "548a94b3-0bc4-4a0e-9000-8130a1d21a43"
      },
      "execution_count": null,
      "outputs": [
        {
          "output_type": "stream",
          "name": "stdout",
          "text": [
            "Warning: Total number of columns (22) exceeds max_columns (20). Falling back to pandas display.\n"
          ]
        },
        {
          "output_type": "execute_result",
          "data": {
            "text/html": [
              "\n",
              "  <div id=\"df-38f82839-9e26-42a0-9915-d5a97b8608da\">\n",
              "    <div class=\"colab-df-container\">\n",
              "      <div>\n",
              "<style scoped>\n",
              "    .dataframe tbody tr th:only-of-type {\n",
              "        vertical-align: middle;\n",
              "    }\n",
              "\n",
              "    .dataframe tbody tr th {\n",
              "        vertical-align: top;\n",
              "    }\n",
              "\n",
              "    .dataframe thead th {\n",
              "        text-align: right;\n",
              "    }\n",
              "</style>\n",
              "<table border=\"1\" class=\"dataframe\">\n",
              "  <thead>\n",
              "    <tr style=\"text-align: right;\">\n",
              "      <th></th>\n",
              "      <th>target_default</th>\n",
              "      <th>score_3</th>\n",
              "      <th>score_4</th>\n",
              "      <th>score_5</th>\n",
              "      <th>score_6</th>\n",
              "      <th>risk_rate</th>\n",
              "      <th>last_amount_borrowed</th>\n",
              "      <th>last_borrowed_in_months</th>\n",
              "      <th>credit_limit</th>\n",
              "      <th>income</th>\n",
              "      <th>facebook_profile</th>\n",
              "      <th>ok_since</th>\n",
              "      <th>n_bankruptcies</th>\n",
              "      <th>n_defaulted_loans</th>\n",
              "      <th>n_accounts</th>\n",
              "      <th>n_issues</th>\n",
              "      <th>application_time_in_funnel</th>\n",
              "      <th>external_data_provider_credit_checks_last_2_year</th>\n",
              "      <th>external_data_provider_credit_checks_last_month</th>\n",
              "      <th>external_data_provider_email_seen_before</th>\n",
              "      <th>external_data_provider_fraud_score</th>\n",
              "      <th>reported_income</th>\n",
              "    </tr>\n",
              "  </thead>\n",
              "  <tbody>\n",
              "    <tr>\n",
              "      <th>35596</th>\n",
              "      <td>False</td>\n",
              "      <td>390.0</td>\n",
              "      <td>100.289495</td>\n",
              "      <td>0.431942</td>\n",
              "      <td>95.266545</td>\n",
              "      <td>0.31</td>\n",
              "      <td>0.00</td>\n",
              "      <td>0.0</td>\n",
              "      <td>134531.0</td>\n",
              "      <td>240026.11</td>\n",
              "      <td>True</td>\n",
              "      <td>70.0</td>\n",
              "      <td>0.0</td>\n",
              "      <td>0.0</td>\n",
              "      <td>15.0</td>\n",
              "      <td>15.0</td>\n",
              "      <td>353.0</td>\n",
              "      <td>0.0</td>\n",
              "      <td>0.0</td>\n",
              "      <td>56.0</td>\n",
              "      <td>771.0</td>\n",
              "      <td>141635.0</td>\n",
              "    </tr>\n",
              "    <tr>\n",
              "      <th>2366</th>\n",
              "      <td>False</td>\n",
              "      <td>290.0</td>\n",
              "      <td>97.209848</td>\n",
              "      <td>0.078579</td>\n",
              "      <td>98.285953</td>\n",
              "      <td>0.27</td>\n",
              "      <td>16019.43</td>\n",
              "      <td>36.0</td>\n",
              "      <td>26872.0</td>\n",
              "      <td>67016.85</td>\n",
              "      <td>True</td>\n",
              "      <td>32.0</td>\n",
              "      <td>0.0</td>\n",
              "      <td>0.0</td>\n",
              "      <td>11.0</td>\n",
              "      <td>11.0</td>\n",
              "      <td>175.0</td>\n",
              "      <td>0.0</td>\n",
              "      <td>2.0</td>\n",
              "      <td>-1.0</td>\n",
              "      <td>42.0</td>\n",
              "      <td>41099.0</td>\n",
              "    </tr>\n",
              "    <tr>\n",
              "      <th>8744</th>\n",
              "      <td>False</td>\n",
              "      <td>370.0</td>\n",
              "      <td>96.196687</td>\n",
              "      <td>0.224297</td>\n",
              "      <td>93.432504</td>\n",
              "      <td>0.29</td>\n",
              "      <td>0.00</td>\n",
              "      <td>0.0</td>\n",
              "      <td>45898.0</td>\n",
              "      <td>65008.46</td>\n",
              "      <td>False</td>\n",
              "      <td>23.0</td>\n",
              "      <td>0.0</td>\n",
              "      <td>0.0</td>\n",
              "      <td>9.0</td>\n",
              "      <td>9.0</td>\n",
              "      <td>250.0</td>\n",
              "      <td>0.0</td>\n",
              "      <td>1.0</td>\n",
              "      <td>53.0</td>\n",
              "      <td>914.0</td>\n",
              "      <td>179112.0</td>\n",
              "    </tr>\n",
              "    <tr>\n",
              "      <th>25870</th>\n",
              "      <td>False</td>\n",
              "      <td>390.0</td>\n",
              "      <td>99.888951</td>\n",
              "      <td>0.223489</td>\n",
              "      <td>96.401889</td>\n",
              "      <td>0.19</td>\n",
              "      <td>0.00</td>\n",
              "      <td>0.0</td>\n",
              "      <td>39896.0</td>\n",
              "      <td>57293.00</td>\n",
              "      <td>False</td>\n",
              "      <td>32.0</td>\n",
              "      <td>0.0</td>\n",
              "      <td>0.0</td>\n",
              "      <td>10.0</td>\n",
              "      <td>10.0</td>\n",
              "      <td>261.0</td>\n",
              "      <td>0.0</td>\n",
              "      <td>1.0</td>\n",
              "      <td>26.0</td>\n",
              "      <td>807.0</td>\n",
              "      <td>193142.0</td>\n",
              "    </tr>\n",
              "    <tr>\n",
              "      <th>1670</th>\n",
              "      <td>True</td>\n",
              "      <td>300.0</td>\n",
              "      <td>96.273920</td>\n",
              "      <td>0.327955</td>\n",
              "      <td>110.571536</td>\n",
              "      <td>0.27</td>\n",
              "      <td>0.00</td>\n",
              "      <td>0.0</td>\n",
              "      <td>25213.0</td>\n",
              "      <td>43013.50</td>\n",
              "      <td>False</td>\n",
              "      <td>32.0</td>\n",
              "      <td>0.0</td>\n",
              "      <td>0.0</td>\n",
              "      <td>6.0</td>\n",
              "      <td>0.0</td>\n",
              "      <td>173.0</td>\n",
              "      <td>0.0</td>\n",
              "      <td>1.0</td>\n",
              "      <td>30.0</td>\n",
              "      <td>875.0</td>\n",
              "      <td>28958.0</td>\n",
              "    </tr>\n",
              "    <tr>\n",
              "      <th>...</th>\n",
              "      <td>...</td>\n",
              "      <td>...</td>\n",
              "      <td>...</td>\n",
              "      <td>...</td>\n",
              "      <td>...</td>\n",
              "      <td>...</td>\n",
              "      <td>...</td>\n",
              "      <td>...</td>\n",
              "      <td>...</td>\n",
              "      <td>...</td>\n",
              "      <td>...</td>\n",
              "      <td>...</td>\n",
              "      <td>...</td>\n",
              "      <td>...</td>\n",
              "      <td>...</td>\n",
              "      <td>...</td>\n",
              "      <td>...</td>\n",
              "      <td>...</td>\n",
              "      <td>...</td>\n",
              "      <td>...</td>\n",
              "      <td>...</td>\n",
              "      <td>...</td>\n",
              "    </tr>\n",
              "    <tr>\n",
              "      <th>3405</th>\n",
              "      <td>False</td>\n",
              "      <td>530.0</td>\n",
              "      <td>98.610134</td>\n",
              "      <td>0.541735</td>\n",
              "      <td>110.975577</td>\n",
              "      <td>0.43</td>\n",
              "      <td>0.00</td>\n",
              "      <td>0.0</td>\n",
              "      <td>25213.0</td>\n",
              "      <td>31226.27</td>\n",
              "      <td>False</td>\n",
              "      <td>32.0</td>\n",
              "      <td>0.0</td>\n",
              "      <td>0.0</td>\n",
              "      <td>6.0</td>\n",
              "      <td>0.0</td>\n",
              "      <td>52.0</td>\n",
              "      <td>0.0</td>\n",
              "      <td>2.0</td>\n",
              "      <td>5.0</td>\n",
              "      <td>917.0</td>\n",
              "      <td>104450.0</td>\n",
              "    </tr>\n",
              "    <tr>\n",
              "      <th>41180</th>\n",
              "      <td>False</td>\n",
              "      <td>320.0</td>\n",
              "      <td>99.700141</td>\n",
              "      <td>0.541608</td>\n",
              "      <td>94.572560</td>\n",
              "      <td>0.18</td>\n",
              "      <td>0.00</td>\n",
              "      <td>0.0</td>\n",
              "      <td>32000.0</td>\n",
              "      <td>77019.78</td>\n",
              "      <td>False</td>\n",
              "      <td>32.0</td>\n",
              "      <td>0.0</td>\n",
              "      <td>0.0</td>\n",
              "      <td>10.0</td>\n",
              "      <td>10.0</td>\n",
              "      <td>257.0</td>\n",
              "      <td>0.0</td>\n",
              "      <td>2.0</td>\n",
              "      <td>7.0</td>\n",
              "      <td>848.0</td>\n",
              "      <td>82142.0</td>\n",
              "    </tr>\n",
              "    <tr>\n",
              "      <th>25120</th>\n",
              "      <td>False</td>\n",
              "      <td>360.0</td>\n",
              "      <td>98.842463</td>\n",
              "      <td>0.885751</td>\n",
              "      <td>90.881093</td>\n",
              "      <td>0.28</td>\n",
              "      <td>8016.41</td>\n",
              "      <td>36.0</td>\n",
              "      <td>26301.0</td>\n",
              "      <td>42008.04</td>\n",
              "      <td>True</td>\n",
              "      <td>46.0</td>\n",
              "      <td>0.0</td>\n",
              "      <td>0.0</td>\n",
              "      <td>8.0</td>\n",
              "      <td>8.0</td>\n",
              "      <td>382.0</td>\n",
              "      <td>0.0</td>\n",
              "      <td>3.0</td>\n",
              "      <td>8.0</td>\n",
              "      <td>475.0</td>\n",
              "      <td>172501.0</td>\n",
              "    </tr>\n",
              "    <tr>\n",
              "      <th>32538</th>\n",
              "      <td>False</td>\n",
              "      <td>440.0</td>\n",
              "      <td>100.350988</td>\n",
              "      <td>0.731504</td>\n",
              "      <td>93.916315</td>\n",
              "      <td>0.37</td>\n",
              "      <td>0.00</td>\n",
              "      <td>0.0</td>\n",
              "      <td>5000.0</td>\n",
              "      <td>50015.16</td>\n",
              "      <td>True</td>\n",
              "      <td>23.0</td>\n",
              "      <td>0.0</td>\n",
              "      <td>0.0</td>\n",
              "      <td>12.0</td>\n",
              "      <td>12.0</td>\n",
              "      <td>441.0</td>\n",
              "      <td>0.0</td>\n",
              "      <td>0.0</td>\n",
              "      <td>59.0</td>\n",
              "      <td>237.0</td>\n",
              "      <td>26245.0</td>\n",
              "    </tr>\n",
              "    <tr>\n",
              "      <th>15047</th>\n",
              "      <td>False</td>\n",
              "      <td>350.0</td>\n",
              "      <td>98.556429</td>\n",
              "      <td>0.533711</td>\n",
              "      <td>102.393452</td>\n",
              "      <td>0.15</td>\n",
              "      <td>0.00</td>\n",
              "      <td>0.0</td>\n",
              "      <td>0.0</td>\n",
              "      <td>52028.48</td>\n",
              "      <td>True</td>\n",
              "      <td>32.0</td>\n",
              "      <td>0.0</td>\n",
              "      <td>0.0</td>\n",
              "      <td>8.0</td>\n",
              "      <td>8.0</td>\n",
              "      <td>89.0</td>\n",
              "      <td>0.0</td>\n",
              "      <td>0.0</td>\n",
              "      <td>9.0</td>\n",
              "      <td>641.0</td>\n",
              "      <td>63720.0</td>\n",
              "    </tr>\n",
              "  </tbody>\n",
              "</table>\n",
              "<p>4175 rows × 22 columns</p>\n",
              "</div>\n",
              "      <button class=\"colab-df-convert\" onclick=\"convertToInteractive('df-38f82839-9e26-42a0-9915-d5a97b8608da')\"\n",
              "              title=\"Convert this dataframe to an interactive table.\"\n",
              "              style=\"display:none;\">\n",
              "        \n",
              "  <svg xmlns=\"http://www.w3.org/2000/svg\" height=\"24px\"viewBox=\"0 0 24 24\"\n",
              "       width=\"24px\">\n",
              "    <path d=\"M0 0h24v24H0V0z\" fill=\"none\"/>\n",
              "    <path d=\"M18.56 5.44l.94 2.06.94-2.06 2.06-.94-2.06-.94-.94-2.06-.94 2.06-2.06.94zm-11 1L8.5 8.5l.94-2.06 2.06-.94-2.06-.94L8.5 2.5l-.94 2.06-2.06.94zm10 10l.94 2.06.94-2.06 2.06-.94-2.06-.94-.94-2.06-.94 2.06-2.06.94z\"/><path d=\"M17.41 7.96l-1.37-1.37c-.4-.4-.92-.59-1.43-.59-.52 0-1.04.2-1.43.59L10.3 9.45l-7.72 7.72c-.78.78-.78 2.05 0 2.83L4 21.41c.39.39.9.59 1.41.59.51 0 1.02-.2 1.41-.59l7.78-7.78 2.81-2.81c.8-.78.8-2.07 0-2.86zM5.41 20L4 18.59l7.72-7.72 1.47 1.35L5.41 20z\"/>\n",
              "  </svg>\n",
              "      </button>\n",
              "      \n",
              "  <style>\n",
              "    .colab-df-container {\n",
              "      display:flex;\n",
              "      flex-wrap:wrap;\n",
              "      gap: 12px;\n",
              "    }\n",
              "\n",
              "    .colab-df-convert {\n",
              "      background-color: #E8F0FE;\n",
              "      border: none;\n",
              "      border-radius: 50%;\n",
              "      cursor: pointer;\n",
              "      display: none;\n",
              "      fill: #1967D2;\n",
              "      height: 32px;\n",
              "      padding: 0 0 0 0;\n",
              "      width: 32px;\n",
              "    }\n",
              "\n",
              "    .colab-df-convert:hover {\n",
              "      background-color: #E2EBFA;\n",
              "      box-shadow: 0px 1px 2px rgba(60, 64, 67, 0.3), 0px 1px 3px 1px rgba(60, 64, 67, 0.15);\n",
              "      fill: #174EA6;\n",
              "    }\n",
              "\n",
              "    [theme=dark] .colab-df-convert {\n",
              "      background-color: #3B4455;\n",
              "      fill: #D2E3FC;\n",
              "    }\n",
              "\n",
              "    [theme=dark] .colab-df-convert:hover {\n",
              "      background-color: #434B5C;\n",
              "      box-shadow: 0px 1px 3px 1px rgba(0, 0, 0, 0.15);\n",
              "      filter: drop-shadow(0px 1px 2px rgba(0, 0, 0, 0.3));\n",
              "      fill: #FFFFFF;\n",
              "    }\n",
              "  </style>\n",
              "\n",
              "      <script>\n",
              "        const buttonEl =\n",
              "          document.querySelector('#df-38f82839-9e26-42a0-9915-d5a97b8608da button.colab-df-convert');\n",
              "        buttonEl.style.display =\n",
              "          google.colab.kernel.accessAllowed ? 'block' : 'none';\n",
              "\n",
              "        async function convertToInteractive(key) {\n",
              "          const element = document.querySelector('#df-38f82839-9e26-42a0-9915-d5a97b8608da');\n",
              "          const dataTable =\n",
              "            await google.colab.kernel.invokeFunction('convertToInteractive',\n",
              "                                                     [key], {});\n",
              "          if (!dataTable) return;\n",
              "\n",
              "          const docLinkHtml = 'Like what you see? Visit the ' +\n",
              "            '<a target=\"_blank\" href=https://colab.research.google.com/notebooks/data_table.ipynb>data table notebook</a>'\n",
              "            + ' to learn more about interactive tables.';\n",
              "          element.innerHTML = '';\n",
              "          dataTable['output_type'] = 'display_data';\n",
              "          await google.colab.output.renderOutput(dataTable, element);\n",
              "          const docLink = document.createElement('div');\n",
              "          docLink.innerHTML = docLinkHtml;\n",
              "          element.appendChild(docLink);\n",
              "        }\n",
              "      </script>\n",
              "    </div>\n",
              "  </div>\n",
              "  "
            ],
            "text/plain": [
              "       target_default  ...  reported_income\n",
              "35596           False  ...         141635.0\n",
              "2366            False  ...          41099.0\n",
              "8744            False  ...         179112.0\n",
              "25870           False  ...         193142.0\n",
              "1670             True  ...          28958.0\n",
              "...               ...  ...              ...\n",
              "3405            False  ...         104450.0\n",
              "41180           False  ...          82142.0\n",
              "25120           False  ...         172501.0\n",
              "32538           False  ...          26245.0\n",
              "15047           False  ...          63720.0\n",
              "\n",
              "[4175 rows x 22 columns]"
            ]
          },
          "metadata": {},
          "execution_count": 18
        }
      ]
    },
    {
      "cell_type": "markdown",
      "source": [
        "# Modelo ML"
      ],
      "metadata": {
        "id": "iulBsAKOjJut"
      }
    },
    {
      "cell_type": "code",
      "source": [
        "from sklearn.neural_network import MLPClassifier\n",
        "from sklearn.pipeline import make_pipeline\n",
        "from sklearn.preprocessing import StandardScaler\n",
        "from collections import defaultdict\n",
        "from sklearn.preprocessing import LabelEncoder\n",
        "from sklearn.naive_bayes import GaussianNB\n",
        "from sklearn.svm import SVC\n"
      ],
      "metadata": {
        "id": "VcAdwzg3jJKV"
      },
      "execution_count": null,
      "outputs": []
    },
    {
      "cell_type": "code",
      "source": [
        "def preprocessing(dataframe, default_dict_label):\n",
        "  # normalizando as colunas numéricas\n",
        "  num_cols = dataframe.drop('target_default',\n",
        "                          axis=1).select_dtypes(exclude='object').columns\n",
        "\n",
        "  dataframe[num_cols] = StandardScaler().fit_transform(dataframe[num_cols].values)\n",
        "  encoded_df = dataframe.copy()\n",
        "  cat_cols = encoded_df.select_dtypes('object').columns\n",
        "  # Encoding the variable\n",
        "  encoded_df[cat_cols] = encoded_df[cat_cols].apply(lambda x: default_dict_label[x.name].fit_transform(x))\n",
        "  X = encoded_df.drop('target_default', axis=1).select_dtypes(exclude='object')\n",
        "  y = encoded_df['target_default']\n",
        "  return X, y\n",
        "\n",
        "def preprocessing2(dataframe, default_dict_label):\n",
        "  cat_cols = dataframe.select_dtypes('object').columns\n",
        "  if len(cat_cols) > 0:\n",
        "    # Encoding the variable\n",
        "    dataframe[cat_cols] = dataframe[cat_cols].apply(lambda x: default_dict_label[x.name].fit_transform(x))\n",
        "\n",
        "  X = dataframe.drop('target_default', axis=1).select_dtypes(exclude='object')\n",
        "  y = dataframe['target_default']\n",
        "  X = X.apply(pd.to_numeric)\n",
        "  y = y.apply(pd.to_numeric)\n",
        "  return X.astype('float32'), y.astype('float32')"
      ],
      "metadata": {
        "id": "SCjmtrjjjbuo"
      },
      "execution_count": null,
      "outputs": []
    },
    {
      "cell_type": "code",
      "source": [
        "# # Inverse the encoded\n",
        "# fit.apply(lambda x: d[x.name].inverse_transform(x))\n",
        "\n",
        "# # Using the dictionary to label future data\n",
        "# df.apply(lambda x: d[x.name].transform(x))"
      ],
      "metadata": {
        "id": "GuqppIotkvOk"
      },
      "execution_count": null,
      "outputs": []
    },
    {
      "cell_type": "code",
      "source": [
        "scaled_df_train = df_train.copy()\n",
        "scaled_df_test = df_test.copy()\n",
        "scaled_df_val = df_val.copy()\n",
        "d = defaultdict(LabelEncoder)\n",
        "X_train, y_train = preprocessing2(scaled_df_train, d)\n",
        "X_test, y_test = preprocessing2(scaled_df_test, d)\n",
        "X_val, y_val = preprocessing2(scaled_df_val, d)"
      ],
      "metadata": {
        "id": "heLNr82BkzFh"
      },
      "execution_count": null,
      "outputs": []
    },
    {
      "cell_type": "code",
      "source": [
        "mlp = MLPClassifier(\n",
        "    (100),max_iter=300, verbose=False, solver='adam', learning_rate_init=1e-4\n",
        ")\n",
        "clf = make_pipeline(StandardScaler(), mlp, verbose=False)\n",
        "clf.fit(X_train, y_train)"
      ],
      "metadata": {
        "id": "jBxYH0vhlgxw",
        "colab": {
          "base_uri": "https://localhost:8080/"
        },
        "outputId": "c9a6cbb7-0252-44fa-e5f7-259461230083"
      },
      "execution_count": null,
      "outputs": [
        {
          "output_type": "execute_result",
          "data": {
            "text/plain": [
              "Pipeline(steps=[('standardscaler', StandardScaler()),\n",
              "                ('mlpclassifier',\n",
              "                 MLPClassifier(hidden_layer_sizes=100,\n",
              "                               learning_rate_init=0.0001, max_iter=300))])"
            ]
          },
          "metadata": {},
          "execution_count": 39
        }
      ]
    },
    {
      "cell_type": "code",
      "source": [
        "print(clf.score(X_train, y_train))\n",
        "print(clf.score(X_val, y_val))"
      ],
      "metadata": {
        "id": "QcCIreTgo3CT",
        "outputId": "2a32c36c-0c4b-4715-8c16-0a3237dde2c8",
        "colab": {
          "base_uri": "https://localhost:8080/"
        }
      },
      "execution_count": null,
      "outputs": [
        {
          "output_type": "stream",
          "name": "stdout",
          "text": [
            "0.8411752961533342\n",
            "0.8393665158371041\n"
          ]
        }
      ]
    },
    {
      "cell_type": "code",
      "source": [
        "print(clf.score(X_test, y_test))"
      ],
      "metadata": {
        "colab": {
          "base_uri": "https://localhost:8080/"
        },
        "id": "jzHlJbkUk5GE",
        "outputId": "7f203624-d656-402e-cbe7-c28cf0cd3ebd"
      },
      "execution_count": null,
      "outputs": [
        {
          "output_type": "stream",
          "name": "stdout",
          "text": [
            "0.8407185628742515\n"
          ]
        }
      ]
    },
    {
      "cell_type": "code",
      "source": [
        "print(X_train)"
      ],
      "metadata": {
        "colab": {
          "base_uri": "https://localhost:8080/"
        },
        "id": "_jIjLmm726Jl",
        "outputId": "f2243295-a8b6-4415-bc6b-3e3bc085314f"
      },
      "execution_count": null,
      "outputs": [
        {
          "output_type": "stream",
          "name": "stdout",
          "text": [
            "       score_3     score_4  ...  external_data_provider_fraud_score  reported_income\n",
            "31470    420.0  100.089788  ...                               659.0          49856.0\n",
            "22841    380.0  100.881777  ...                               235.0         160243.0\n",
            "4973      70.0  102.234920  ...                               104.0           7078.0\n",
            "12698    390.0  101.666820  ...                               682.0         115061.0\n",
            "874      320.0   97.606224  ...                               273.0            961.0\n",
            "...        ...         ...  ...                                 ...              ...\n",
            "1261     410.0   97.405279  ...                               125.0          66639.0\n",
            "13479    260.0   98.132238  ...                               169.0          99305.0\n",
            "44908    420.0   98.928279  ...                               528.0         193040.0\n",
            "3689     260.0   98.691457  ...                               367.0          10685.0\n",
            "40730    270.0   98.888929  ...                               239.0          19728.0\n",
            "\n",
            "[30052 rows x 21 columns]\n"
          ]
        }
      ]
    },
    {
      "cell_type": "code",
      "source": [
        "import matplotlib.pyplot as plt\n",
        "from sklearn.metrics import plot_confusion_matrix\n",
        "disp = plot_confusion_matrix(clf, X_test, y_test)  \n",
        "plt.show()"
      ],
      "metadata": {
        "colab": {
          "base_uri": "https://localhost:8080/",
          "height": 338
        },
        "id": "3mUB8DAKDkaI",
        "outputId": "fcabc476-8637-405d-bf91-ec797f32d49b"
      },
      "execution_count": null,
      "outputs": [
        {
          "output_type": "stream",
          "name": "stderr",
          "text": [
            "/usr/local/lib/python3.7/dist-packages/sklearn/utils/deprecation.py:87: FutureWarning: Function plot_confusion_matrix is deprecated; Function `plot_confusion_matrix` is deprecated in 1.0 and will be removed in 1.2. Use one of the class methods: ConfusionMatrixDisplay.from_predictions or ConfusionMatrixDisplay.from_estimator.\n",
            "  warnings.warn(msg, category=FutureWarning)\n"
          ]
        },
        {
          "output_type": "display_data",
          "data": {
            "image/png": "[encoded data removed]",
            "text/plain": [
              "<Figure size 432x288 with 2 Axes>"
            ]
          },
          "metadata": {
            "needs_background": "light"
          }
        }
      ]
    },
    {
      "cell_type": "code",
      "source": [
        "import torch\n",
        "from torch import nn\n",
        "from torch.utils.data import DataLoader\n",
        "from torch.utils.data import TensorDataset"
      ],
      "metadata": {
        "id": "gTB6r-T-xxBR"
      },
      "execution_count": null,
      "outputs": []
    },
    {
      "cell_type": "code",
      "source": [
        "print(X_train.shape)"
      ],
      "metadata": {
        "colab": {
          "base_uri": "https://localhost:8080/"
        },
        "id": "WD8EfbmEyMCh",
        "outputId": "a145c17d-051b-4a64-c99a-228e4a22e23d"
      },
      "execution_count": null,
      "outputs": [
        {
          "output_type": "stream",
          "name": "stdout",
          "text": [
            "(30052, 21)\n"
          ]
        }
      ]
    },
    {
      "cell_type": "code",
      "source": [
        "class MLP(nn.Module):\n",
        "  '''\n",
        "    Multilayer Perceptron.\n",
        "  '''\n",
        "  def __init__(self):\n",
        "    super().__init__()\n",
        "    self.layers = nn.Sequential(\n",
        "      nn.Linear(21, 100),\n",
        "      nn.ReLU(),\n",
        "      nn.BatchNorm1d(100),\n",
        "      nn.Linear(100, 64),\n",
        "      nn.ReLU(),\n",
        "      nn.BatchNorm1d(64),\n",
        "      nn.Linear(64, 32),\n",
        "      nn.ReLU(),\n",
        "      nn.Linear(32, 1)\n",
        "    )\n",
        "\n",
        "\n",
        "  def forward(self, x):\n",
        "    '''Forward pass'''\n",
        "    return self.layers(x)"
      ],
      "metadata": {
        "id": "-WbR13MLx9vR"
      },
      "execution_count": null,
      "outputs": []
    },
    {
      "cell_type": "code",
      "source": [
        "scaler = StandardScaler()\n",
        "X_train = torch.from_numpy(scaler.fit_transform(X_train.to_numpy()))\n",
        "y_train = torch.from_numpy(y_train.to_numpy())"
      ],
      "metadata": {
        "id": "LUZE3tYDznP4"
      },
      "execution_count": null,
      "outputs": []
    },
    {
      "cell_type": "code",
      "source": [
        "dataset = TensorDataset(X_train, y_train)"
      ],
      "metadata": {
        "id": "D98kby-c69EE"
      },
      "execution_count": null,
      "outputs": []
    },
    {
      "cell_type": "code",
      "source": [
        "trainloader = torch.utils.data.DataLoader(dataset, batch_size=10, shuffle=True, num_workers=1)"
      ],
      "metadata": {
        "id": "ekBh77acyb2b"
      },
      "execution_count": null,
      "outputs": []
    },
    {
      "cell_type": "code",
      "source": [
        "# Initialize the MLP\n",
        "mlp = MLP()\n",
        "\n",
        "# Define the loss function and optimizer\n",
        "loss_function = nn.BCEWithLogitsLoss(torch.from_numpy(np.array([100])))\n",
        "optimizer = torch.optim.Adam(mlp.parameters(), lr=1e-4)"
      ],
      "metadata": {
        "id": "0r_DWaQ-7NIo"
      },
      "execution_count": null,
      "outputs": []
    },
    {
      "cell_type": "code",
      "source": [
        "# Run the training loop\n",
        "for epoch in range(0, 50):\n",
        "    \n",
        "    # Print epoch\n",
        "    print(f'Starting epoch {epoch+1}')\n",
        "    \n",
        "    # Set current loss value\n",
        "    current_loss = 0.0\n",
        "    \n",
        "    # Iterate over the DataLoader for training data\n",
        "    for i, data in enumerate(trainloader, 0):\n",
        "      \n",
        "      # Get inputs\n",
        "      inputs, targets = data\n",
        "      \n",
        "      # Zero the gradients\n",
        "      optimizer.zero_grad()\n",
        "      \n",
        "      # Perform forward pass\n",
        "      outputs = mlp(inputs)\n",
        "      \n",
        "      # Compute loss\n",
        "      targets = targets.unsqueeze(1)\n",
        "      loss = loss_function(outputs, targets)\n",
        "      \n",
        "      # Perform backward pass\n",
        "      loss.backward()\n",
        "      \n",
        "      # Perform optimization\n",
        "      optimizer.step()\n",
        "      \n",
        "      # Print statistics\n",
        "      current_loss += loss.item()\n",
        "      if i % 500 == 499:\n",
        "          print('Loss after mini-batch %5d: %.3f' %\n",
        "                (i + 1, current_loss / 500))\n",
        "          current_loss = 0.0\n",
        "\n",
        "# Process is complete.\n",
        "print('Training process has finished.')"
      ],
      "metadata": {
        "colab": {
          "base_uri": "https://localhost:8080/"
        },
        "id": "cJfPeWBO0bi1",
        "outputId": "cf253c37-b82b-4c2f-869d-e50004b3e0df"
      },
      "execution_count": null,
      "outputs": [
        {
          "output_type": "stream",
          "name": "stdout",
          "text": [
            "Starting epoch 1\n",
            "Loss after mini-batch   500: 39.615\n",
            "Loss after mini-batch  1000: 39.394\n",
            "Loss after mini-batch  1500: 38.863\n",
            "Loss after mini-batch  2000: 41.186\n",
            "Loss after mini-batch  2500: 41.669\n",
            "Loss after mini-batch  3000: 41.791\n",
            "Starting epoch 2\n",
            "Loss after mini-batch   500: 39.642\n",
            "Loss after mini-batch  1000: 40.347\n",
            "Loss after mini-batch  1500: 40.553\n",
            "Loss after mini-batch  2000: 38.864\n",
            "Loss after mini-batch  2500: 40.047\n",
            "Loss after mini-batch  3000: 40.959\n",
            "Starting epoch 3\n",
            "Loss after mini-batch   500: 39.827\n",
            "Loss after mini-batch  1000: 39.754\n",
            "Loss after mini-batch  1500: 39.038\n",
            "Loss after mini-batch  2000: 39.305\n",
            "Loss after mini-batch  2500: 41.207\n",
            "Loss after mini-batch  3000: 39.871\n",
            "Starting epoch 4\n",
            "Loss after mini-batch   500: 39.303\n",
            "Loss after mini-batch  1000: 40.510\n",
            "Loss after mini-batch  1500: 40.178\n",
            "Loss after mini-batch  2000: 39.792\n",
            "Loss after mini-batch  2500: 39.427\n",
            "Loss after mini-batch  3000: 38.368\n",
            "Starting epoch 5\n",
            "Loss after mini-batch   500: 39.312\n",
            "Loss after mini-batch  1000: 40.470\n",
            "Loss after mini-batch  1500: 38.067\n",
            "Loss after mini-batch  2000: 38.437\n",
            "Loss after mini-batch  2500: 39.562\n",
            "Loss after mini-batch  3000: 40.215\n",
            "Starting epoch 6\n",
            "Loss after mini-batch   500: 38.071\n",
            "Loss after mini-batch  1000: 39.803\n",
            "Loss after mini-batch  1500: 39.516\n",
            "Loss after mini-batch  2000: 39.012\n",
            "Loss after mini-batch  2500: 39.497\n",
            "Loss after mini-batch  3000: 39.223\n",
            "Starting epoch 7\n",
            "Loss after mini-batch   500: 39.306\n",
            "Loss after mini-batch  1000: 39.239\n",
            "Loss after mini-batch  1500: 39.581\n",
            "Loss after mini-batch  2000: 37.825\n",
            "Loss after mini-batch  2500: 39.256\n",
            "Loss after mini-batch  3000: 38.545\n",
            "Starting epoch 8\n",
            "Loss after mini-batch   500: 38.233\n",
            "Loss after mini-batch  1000: 39.239\n",
            "Loss after mini-batch  1500: 38.278\n",
            "Loss after mini-batch  2000: 39.174\n",
            "Loss after mini-batch  2500: 38.948\n",
            "Loss after mini-batch  3000: 38.369\n",
            "Starting epoch 9\n",
            "Loss after mini-batch   500: 37.574\n",
            "Loss after mini-batch  1000: 37.499\n",
            "Loss after mini-batch  1500: 41.004\n",
            "Loss after mini-batch  2000: 37.996\n",
            "Loss after mini-batch  2500: 38.688\n",
            "Loss after mini-batch  3000: 38.338\n",
            "Starting epoch 10\n",
            "Loss after mini-batch   500: 37.368\n",
            "Loss after mini-batch  1000: 38.216\n",
            "Loss after mini-batch  1500: 36.629\n",
            "Loss after mini-batch  2000: 37.768\n",
            "Loss after mini-batch  2500: 40.284\n",
            "Loss after mini-batch  3000: 39.554\n",
            "Starting epoch 11\n",
            "Loss after mini-batch   500: 37.586\n",
            "Loss after mini-batch  1000: 37.469\n",
            "Loss after mini-batch  1500: 37.824\n",
            "Loss after mini-batch  2000: 38.601\n",
            "Loss after mini-batch  2500: 39.036\n",
            "Loss after mini-batch  3000: 38.344\n",
            "Starting epoch 12\n",
            "Loss after mini-batch   500: 37.963\n",
            "Loss after mini-batch  1000: 37.361\n",
            "Loss after mini-batch  1500: 38.610\n",
            "Loss after mini-batch  2000: 37.738\n",
            "Loss after mini-batch  2500: 38.123\n",
            "Loss after mini-batch  3000: 37.687\n",
            "Starting epoch 13\n",
            "Loss after mini-batch   500: 38.145\n",
            "Loss after mini-batch  1000: 36.919\n",
            "Loss after mini-batch  1500: 38.054\n",
            "Loss after mini-batch  2000: 37.702\n",
            "Loss after mini-batch  2500: 37.512\n",
            "Loss after mini-batch  3000: 37.612\n",
            "Starting epoch 14\n",
            "Loss after mini-batch   500: 36.560\n",
            "Loss after mini-batch  1000: 37.982\n",
            "Loss after mini-batch  1500: 37.034\n",
            "Loss after mini-batch  2000: 38.198\n",
            "Loss after mini-batch  2500: 37.282\n",
            "Loss after mini-batch  3000: 37.768\n",
            "Starting epoch 15\n",
            "Loss after mini-batch   500: 35.726\n",
            "Loss after mini-batch  1000: 36.365\n",
            "Loss after mini-batch  1500: 37.598\n",
            "Loss after mini-batch  2000: 37.914\n",
            "Loss after mini-batch  2500: 38.037\n",
            "Loss after mini-batch  3000: 38.004\n",
            "Starting epoch 16\n",
            "Loss after mini-batch   500: 36.807\n",
            "Loss after mini-batch  1000: 36.288\n",
            "Loss after mini-batch  1500: 37.539\n",
            "Loss after mini-batch  2000: 35.979\n",
            "Loss after mini-batch  2500: 37.662\n",
            "Loss after mini-batch  3000: 37.856\n",
            "Starting epoch 17\n",
            "Loss after mini-batch   500: 36.743\n",
            "Loss after mini-batch  1000: 36.475\n",
            "Loss after mini-batch  1500: 35.826\n",
            "Loss after mini-batch  2000: 37.279\n",
            "Loss after mini-batch  2500: 37.523\n",
            "Loss after mini-batch  3000: 36.835\n",
            "Starting epoch 18\n",
            "Loss after mini-batch   500: 36.830\n",
            "Loss after mini-batch  1000: 35.921\n",
            "Loss after mini-batch  1500: 36.451\n",
            "Loss after mini-batch  2000: 36.127\n",
            "Loss after mini-batch  2500: 36.736\n",
            "Loss after mini-batch  3000: 37.287\n",
            "Starting epoch 19\n",
            "Loss after mini-batch   500: 36.057\n",
            "Loss after mini-batch  1000: 36.176\n",
            "Loss after mini-batch  1500: 35.665\n",
            "Loss after mini-batch  2000: 36.353\n",
            "Loss after mini-batch  2500: 36.507\n",
            "Loss after mini-batch  3000: 37.258\n",
            "Starting epoch 20\n",
            "Loss after mini-batch   500: 35.046\n",
            "Loss after mini-batch  1000: 37.892\n",
            "Loss after mini-batch  1500: 36.249\n",
            "Loss after mini-batch  2000: 35.343\n",
            "Loss after mini-batch  2500: 36.655\n",
            "Loss after mini-batch  3000: 35.556\n",
            "Starting epoch 21\n",
            "Loss after mini-batch   500: 36.143\n",
            "Loss after mini-batch  1000: 34.896\n",
            "Loss after mini-batch  1500: 36.374\n",
            "Loss after mini-batch  2000: 36.542\n",
            "Loss after mini-batch  2500: 35.543\n",
            "Loss after mini-batch  3000: 36.033\n",
            "Starting epoch 22\n",
            "Loss after mini-batch   500: 35.754\n",
            "Loss after mini-batch  1000: 35.130\n",
            "Loss after mini-batch  1500: 35.684\n",
            "Loss after mini-batch  2000: 36.217\n",
            "Loss after mini-batch  2500: 36.573\n",
            "Loss after mini-batch  3000: 34.775\n",
            "Starting epoch 23\n",
            "Loss after mini-batch   500: 34.493\n",
            "Loss after mini-batch  1000: 35.320\n",
            "Loss after mini-batch  1500: 36.311\n",
            "Loss after mini-batch  2000: 36.352\n",
            "Loss after mini-batch  2500: 36.481\n",
            "Loss after mini-batch  3000: 34.018\n",
            "Starting epoch 24\n",
            "Loss after mini-batch   500: 36.594\n",
            "Loss after mini-batch  1000: 33.613\n",
            "Loss after mini-batch  1500: 35.426\n",
            "Loss after mini-batch  2000: 36.667\n",
            "Loss after mini-batch  2500: 35.444\n",
            "Loss after mini-batch  3000: 33.827\n",
            "Starting epoch 25\n",
            "Loss after mini-batch   500: 35.245\n",
            "Loss after mini-batch  1000: 34.140\n",
            "Loss after mini-batch  1500: 34.861\n",
            "Loss after mini-batch  2000: 36.217\n",
            "Loss after mini-batch  2500: 35.851\n",
            "Loss after mini-batch  3000: 34.050\n",
            "Starting epoch 26\n",
            "Loss after mini-batch   500: 34.451\n",
            "Loss after mini-batch  1000: 35.770\n",
            "Loss after mini-batch  1500: 34.444\n",
            "Loss after mini-batch  2000: 35.026\n",
            "Loss after mini-batch  2500: 34.977\n",
            "Loss after mini-batch  3000: 34.213\n",
            "Starting epoch 27\n",
            "Loss after mini-batch   500: 34.843\n",
            "Loss after mini-batch  1000: 34.228\n",
            "Loss after mini-batch  1500: 34.987\n",
            "Loss after mini-batch  2000: 33.734\n",
            "Loss after mini-batch  2500: 34.607\n",
            "Loss after mini-batch  3000: 35.139\n",
            "Starting epoch 28\n",
            "Loss after mini-batch   500: 34.469\n",
            "Loss after mini-batch  1000: 33.769\n",
            "Loss after mini-batch  1500: 33.342\n",
            "Loss after mini-batch  2000: 34.412\n",
            "Loss after mini-batch  2500: 34.347\n",
            "Loss after mini-batch  3000: 35.847\n",
            "Starting epoch 29\n",
            "Loss after mini-batch   500: 33.261\n",
            "Loss after mini-batch  1000: 34.431\n",
            "Loss after mini-batch  1500: 35.778\n",
            "Loss after mini-batch  2000: 33.875\n",
            "Loss after mini-batch  2500: 33.648\n",
            "Loss after mini-batch  3000: 34.027\n",
            "Starting epoch 30\n",
            "Loss after mini-batch   500: 33.714\n",
            "Loss after mini-batch  1000: 32.769\n",
            "Loss after mini-batch  1500: 34.270\n",
            "Loss after mini-batch  2000: 34.300\n",
            "Loss after mini-batch  2500: 34.231\n",
            "Loss after mini-batch  3000: 34.432\n",
            "Starting epoch 31\n",
            "Loss after mini-batch   500: 32.670\n",
            "Loss after mini-batch  1000: 34.140\n",
            "Loss after mini-batch  1500: 34.482\n",
            "Loss after mini-batch  2000: 33.306\n",
            "Loss after mini-batch  2500: 34.322\n",
            "Loss after mini-batch  3000: 33.628\n",
            "Starting epoch 32\n",
            "Loss after mini-batch   500: 32.099\n",
            "Loss after mini-batch  1000: 34.180\n",
            "Loss after mini-batch  1500: 33.403\n",
            "Loss after mini-batch  2000: 34.174\n",
            "Loss after mini-batch  2500: 34.569\n",
            "Loss after mini-batch  3000: 32.539\n",
            "Starting epoch 33\n",
            "Loss after mini-batch   500: 32.722\n",
            "Loss after mini-batch  1000: 32.485\n",
            "Loss after mini-batch  1500: 33.268\n",
            "Loss after mini-batch  2000: 34.807\n",
            "Loss after mini-batch  2500: 32.617\n",
            "Loss after mini-batch  3000: 33.526\n",
            "Starting epoch 34\n",
            "Loss after mini-batch   500: 32.905\n",
            "Loss after mini-batch  1000: 33.803\n",
            "Loss after mini-batch  1500: 32.582\n",
            "Loss after mini-batch  2000: 33.545\n",
            "Loss after mini-batch  2500: 32.651\n",
            "Loss after mini-batch  3000: 32.671\n",
            "Starting epoch 35\n",
            "Loss after mini-batch   500: 33.579\n",
            "Loss after mini-batch  1000: 32.100\n",
            "Loss after mini-batch  1500: 31.869\n",
            "Loss after mini-batch  2000: 32.836\n",
            "Loss after mini-batch  2500: 31.986\n",
            "Loss after mini-batch  3000: 34.539\n",
            "Starting epoch 36\n",
            "Loss after mini-batch   500: 30.414\n",
            "Loss after mini-batch  1000: 33.455\n",
            "Loss after mini-batch  1500: 32.954\n",
            "Loss after mini-batch  2000: 33.457\n",
            "Loss after mini-batch  2500: 32.753\n",
            "Loss after mini-batch  3000: 32.888\n",
            "Starting epoch 37\n",
            "Loss after mini-batch   500: 31.798\n",
            "Loss after mini-batch  1000: 31.198\n",
            "Loss after mini-batch  1500: 32.236\n",
            "Loss after mini-batch  2000: 33.260\n",
            "Loss after mini-batch  2500: 33.043\n",
            "Loss after mini-batch  3000: 32.824\n",
            "Starting epoch 38\n",
            "Loss after mini-batch   500: 31.861\n",
            "Loss after mini-batch  1000: 30.455\n",
            "Loss after mini-batch  1500: 31.673\n",
            "Loss after mini-batch  2000: 32.342\n",
            "Loss after mini-batch  2500: 33.379\n",
            "Loss after mini-batch  3000: 33.248\n",
            "Starting epoch 39\n",
            "Loss after mini-batch   500: 30.303\n",
            "Loss after mini-batch  1000: 33.193\n",
            "Loss after mini-batch  1500: 31.333\n",
            "Loss after mini-batch  2000: 32.447\n",
            "Loss after mini-batch  2500: 32.080\n",
            "Loss after mini-batch  3000: 32.302\n",
            "Starting epoch 40\n",
            "Loss after mini-batch   500: 31.558\n",
            "Loss after mini-batch  1000: 30.916\n",
            "Loss after mini-batch  1500: 31.446\n",
            "Loss after mini-batch  2000: 30.828\n",
            "Loss after mini-batch  2500: 32.974\n",
            "Loss after mini-batch  3000: 33.026\n",
            "Starting epoch 41\n",
            "Loss after mini-batch   500: 30.748\n",
            "Loss after mini-batch  1000: 31.158\n",
            "Loss after mini-batch  1500: 32.468\n",
            "Loss after mini-batch  2000: 30.087\n",
            "Loss after mini-batch  2500: 32.696\n",
            "Loss after mini-batch  3000: 32.076\n",
            "Starting epoch 42\n",
            "Loss after mini-batch   500: 30.610\n",
            "Loss after mini-batch  1000: 30.022\n",
            "Loss after mini-batch  1500: 31.454\n",
            "Loss after mini-batch  2000: 30.826\n",
            "Loss after mini-batch  2500: 32.601\n",
            "Loss after mini-batch  3000: 32.759\n",
            "Starting epoch 43\n",
            "Loss after mini-batch   500: 31.220\n",
            "Loss after mini-batch  1000: 31.276\n",
            "Loss after mini-batch  1500: 32.171\n",
            "Loss after mini-batch  2000: 30.559\n",
            "Loss after mini-batch  2500: 30.025\n",
            "Loss after mini-batch  3000: 31.785\n",
            "Starting epoch 44\n",
            "Loss after mini-batch   500: 30.284\n",
            "Loss after mini-batch  1000: 31.314\n",
            "Loss after mini-batch  1500: 30.706\n",
            "Loss after mini-batch  2000: 30.814\n",
            "Loss after mini-batch  2500: 31.063\n",
            "Loss after mini-batch  3000: 31.744\n",
            "Starting epoch 45\n",
            "Loss after mini-batch   500: 28.726\n",
            "Loss after mini-batch  1000: 30.743\n",
            "Loss after mini-batch  1500: 31.023\n",
            "Loss after mini-batch  2000: 30.574\n",
            "Loss after mini-batch  2500: 31.109\n",
            "Loss after mini-batch  3000: 32.270\n",
            "Starting epoch 46\n",
            "Loss after mini-batch   500: 29.351\n",
            "Loss after mini-batch  1000: 30.521\n",
            "Loss after mini-batch  1500: 31.001\n",
            "Loss after mini-batch  2000: 31.069\n",
            "Loss after mini-batch  2500: 28.789\n",
            "Loss after mini-batch  3000: 32.305\n",
            "Starting epoch 47\n",
            "Loss after mini-batch   500: 29.880\n",
            "Loss after mini-batch  1000: 29.813\n",
            "Loss after mini-batch  1500: 29.836\n",
            "Loss after mini-batch  2000: 30.596\n",
            "Loss after mini-batch  2500: 30.825\n",
            "Loss after mini-batch  3000: 31.199\n",
            "Starting epoch 48\n",
            "Loss after mini-batch   500: 28.977\n",
            "Loss after mini-batch  1000: 31.034\n",
            "Loss after mini-batch  1500: 30.568\n",
            "Loss after mini-batch  2000: 30.309\n",
            "Loss after mini-batch  2500: 30.239\n",
            "Loss after mini-batch  3000: 30.141\n",
            "Starting epoch 49\n",
            "Loss after mini-batch   500: 28.334\n",
            "Loss after mini-batch  1000: 30.501\n",
            "Loss after mini-batch  1500: 29.810\n",
            "Loss after mini-batch  2000: 29.693\n",
            "Loss after mini-batch  2500: 30.504\n",
            "Loss after mini-batch  3000: 31.035\n",
            "Starting epoch 50\n",
            "Loss after mini-batch   500: 28.084\n",
            "Loss after mini-batch  1000: 28.901\n",
            "Loss after mini-batch  1500: 30.599\n",
            "Loss after mini-batch  2000: 29.683\n",
            "Loss after mini-batch  2500: 30.523\n",
            "Loss after mini-batch  3000: 31.013\n",
            "Training process has finished.\n"
          ]
        }
      ]
    },
    {
      "cell_type": "code",
      "source": [
        "X_val = torch.from_numpy(scaler.fit_transform(X_val.to_numpy()))\n",
        "y_val = torch.from_numpy(y_val.to_numpy())"
      ],
      "metadata": {
        "id": "w7mDcmV8-w6N"
      },
      "execution_count": null,
      "outputs": []
    },
    {
      "cell_type": "code",
      "source": [
        "dataset_val = TensorDataset(X_val, y_val)"
      ],
      "metadata": {
        "id": "81njHWZF_Ihj"
      },
      "execution_count": null,
      "outputs": []
    },
    {
      "cell_type": "code",
      "source": [
        "device = torch.device(\"cuda:0\" if torch.cuda.is_available() else \"cpu\")\n",
        "mlp.to(device)\n"
      ],
      "metadata": {
        "colab": {
          "base_uri": "https://localhost:8080/"
        },
        "id": "7RNRaTLQ_j-n",
        "outputId": "e02717ef-4a59-4263-c7d5-cb39386f9d6d"
      },
      "execution_count": null,
      "outputs": [
        {
          "output_type": "execute_result",
          "data": {
            "text/plain": [
              "MLP(\n",
              "  (layers): Sequential(\n",
              "    (0): Linear(in_features=21, out_features=100, bias=True)\n",
              "    (1): ReLU()\n",
              "    (2): BatchNorm1d(100, eps=1e-05, momentum=0.1, affine=True, track_running_stats=True)\n",
              "    (3): Linear(in_features=100, out_features=64, bias=True)\n",
              "    (4): ReLU()\n",
              "    (5): BatchNorm1d(64, eps=1e-05, momentum=0.1, affine=True, track_running_stats=True)\n",
              "    (6): Linear(in_features=64, out_features=32, bias=True)\n",
              "    (7): ReLU()\n",
              "    (8): Linear(in_features=32, out_features=1, bias=True)\n",
              "  )\n",
              ")"
            ]
          },
          "metadata": {},
          "execution_count": 66
        }
      ]
    },
    {
      "cell_type": "code",
      "source": [
        "y_pred_list = []\n",
        "y_true_lis = []\n",
        "mlp.eval()\n",
        "with torch.no_grad():\n",
        "    for i, data in enumerate(trainloader, 0):\n",
        "        X_batch, targets = data\n",
        "        X_batch = X_batch.to(device)\n",
        "        y_test_pred = mlp(X_batch)\n",
        "        y_test_pred = torch.sigmoid(y_test_pred)\n",
        "        y_pred_tag = torch.where(y_test_pred > 0.3, 1, 0)\n",
        "        y_pred_list += np.squeeze(y_pred_tag.cpu().numpy()).tolist()\n",
        "        y_true_lis  += np.squeeze(targets.cpu().numpy()).tolist()\n",
        "\n"
      ],
      "metadata": {
        "id": "WBa1bTV0-30w"
      },
      "execution_count": null,
      "outputs": []
    },
    {
      "cell_type": "code",
      "source": [
        "from sklearn.metrics import confusion_matrix, ConfusionMatrixDisplay, classification_report\n",
        "\n",
        "cm = confusion_matrix(y_true_lis, y_pred_list)\n",
        "\n",
        "disp = ConfusionMatrixDisplay(confusion_matrix=cm)\n",
        "disp.plot()\n",
        "plt.show()"
      ],
      "metadata": {
        "colab": {
          "base_uri": "https://localhost:8080/",
          "height": 279
        },
        "id": "8Lr6a4uvAOsN",
        "outputId": "1dbe47c8-5bc8-4918-b205-7a8e5ff53f7b"
      },
      "execution_count": null,
      "outputs": [
        {
          "output_type": "display_data",
          "data": {
            "image/png": "[encoded data removed]",
            "text/plain": [
              "<Figure size 432x288 with 2 Axes>"
            ]
          },
          "metadata": {
            "needs_background": "light"
          }
        }
      ]
    },
    {
      "cell_type": "code",
      "source": [
        "print(classification_report(y_true_lis, y_pred_list))"
      ],
      "metadata": {
        "colab": {
          "base_uri": "https://localhost:8080/"
        },
        "id": "d6LWah5PG_jj",
        "outputId": "ee756f37-fa3d-474e-a748-f1d5ccdf0a95"
      },
      "execution_count": null,
      "outputs": [
        {
          "output_type": "stream",
          "name": "stdout",
          "text": [
            "              precision    recall  f1-score   support\n",
            "\n",
            "         0.0       0.92      0.94      0.93     25310\n",
            "         1.0       0.63      0.55      0.59      4742\n",
            "\n",
            "    accuracy                           0.88     30052\n",
            "   macro avg       0.77      0.75      0.76     30052\n",
            "weighted avg       0.87      0.88      0.87     30052\n",
            "\n"
          ]
        }
      ]
    }
  ]
}